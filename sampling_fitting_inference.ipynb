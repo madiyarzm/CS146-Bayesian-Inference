{
 "cells": [
  {
   "cell_type": "markdown",
   "metadata": {},
   "source": [
    "# Bayesian Inference on Medical Trial Data\n",
    "\n",
    "This notebook applies Bayesian inference to medical trial data. The goal is to estimate the probability of patient improvement in treatment and control groups using both sampling and function-fitting approaches."
   ]
  },
  {
   "cell_type": "markdown",
   "metadata": {},
   "source": [
    "## Data Overview\n",
    "\n",
    "We have summarized trial data for two groups:\n",
    "\n",
    "| Group     | Improved | Total Patients |\n",
    "|-----------|---------:|---------------|\n",
    "| Treatment | 107      | 141           |\n",
    "| Control   | 57       | 121           |\n",
    "\n",
    "We aim to estimate the probability of improvement for each group using Bayesian methods."
   ]
  },
  {
   "cell_type": "code",
   "metadata": {},
   "source": [
    "# Libraries\n",
    "import pymc as pm\n",
    "import numpy as np\n",
    "import scipy.stats as sts\n",
    "import matplotlib.pyplot as plt\n",
    "\n",
    "# Dataset\n",
    "trial_data = {\n",
    "    'treatment': {'improved': 107, 'patients': 141},\n",
    "    'control': {'improved': 57, 'patients': 121}\n",
    "}"
   ],
   "execution_count": null,
   "outputs": []
  },
  {
   "cell_type": "markdown",
   "metadata": {},
   "source": [
    "## Modeling the Control Group\n",
    "\n",
    "The number of improved patients is modeled as a Binomial distribution. Since we have no strong prior beliefs, we use a uniform prior (Beta(1,1)) for the probability of improvement.\n",
    "\n",
    "**Model:**\n",
    "- Likelihood: x ~ Binomial(n, p)\n",
    "- Prior: p ~ Beta(1,1)\n",
    "- Posterior: proportional to Likelihood × Prior"
   ]
  },
  {
   "cell_type": "code",
   "metadata": {},
   "source": [
    "# Bayesian model for Control group\n",
    "with pm.Model() as control_model:\n",
    "    p_control = pm.Beta('p_control', alpha=1, beta=1)\n",
    "    x_control = pm.Binomial('x_control', \n",
    "                             n=trial_data['control']['patients'], \n",
    "                             p=p_control, \n",
    "                             observed=trial_data['control']['improved'])"
   ],
   "execution_count": null,
   "outputs": []
  },
  {
   "cell_type": "markdown",
   "metadata": {},
   "source": [
    "### Posterior Sampling\n",
    "We sample from the posterior using PyMC's NUTS sampler to estimate the probability distribution of improvement."
   ]
  },
  {
   "cell_type": "code",
   "metadata": {},
   "source": [
    "with control_model:\n",
    "    control_trace = pm.sample()\n",
    "\n",
    "posterior_samples = control_trace.posterior.p_control.values.flatten()\n",
    "\n",
    "# Histogram of posterior samples\n",
    "plt.figure(figsize=(8,4))\n",
    "plt.hist(posterior_samples, bins=20, density=True, edgecolor='white', label='Sampling Approximation')\n",
    "\n",
    "# Exact posterior for comparison\n",
    "x = np.linspace(0,1,500)\n",
    "y = sts.beta.pdf(x, trial_data['control']['improved']+1, \n",
    "                    trial_data['control']['patients'] - trial_data['control']['improved'] +1)\n",
    "plt.plot(x, y, label='Analytical Posterior')\n",
    "plt.xlabel('Probability of Improvement')\n",
    "plt.ylabel('Density')\n",
    "plt.title('Posterior Distribution for Control Group')\n",
    "plt.legend()\n",
    "plt.show()"
   ],
   "execution_count": null,
   "outputs": []
  },
  {
   "cell_type": "markdown",
   "metadata": {},
   "source": [
    "**Interpretation:**\n",
    "The posterior is centered around ~0.47, indicating the control group has roughly a 47% probability of improvement. Sampling aligns well with the analytical Beta posterior, confirming the model."
   ]
  },
  {
   "cell_type": "markdown",
   "metadata": {},
   "source": [
    "## Posterior Approximation via Function Fitting\n",
    "To approximate the posterior faster, we can use variational inference (ADVI)."
   ]
  },
  {
   "cell_type": "code",
   "metadata": {},
   "source": [
    "with control_model:\n",
    "    approx = pm.fit()\n",
    "    fit_samples = approx.sample(4000)\n",
    "\n",
    "posterior_fit = fit_samples.posterior.p_control.values.flatten()\n",
    "\n",
    "plt.figure(figsize=(8,4))\n",
    "plt.hist(posterior_fit, bins=20, density=True, edgecolor='white', label='Function Fitting Approximation')\n",
    "plt.plot(x, y, label='Analytical Posterior')\n",
    "plt.xlabel('Probability of Improvement')\n",
    "plt.ylabel('Density')\n",
    "plt.title('Posterior Approximation for Control Group (ADVI)')\n",
    "plt.legend()\n",
    "plt.show()"
   ],
   "execution_count": null,
   "outputs": []
  },
  {
   "cell_type": "markdown",
   "metadata": {},
   "source": [
    "**Reflection:**\n",
    "- Sampling is more precise but slower.\n",
    "- Function fitting (ADVI) is faster and provides a reasonable approximation.\n",
    "- Both methods indicate the control group's improvement probability is lower than the treatment group."
   ]
  },
  {
   "cell_type": "markdown",
   "metadata": {},
   "source": [
    "## Treatment Group Analysis\n",
    "We repeat the Bayesian analysis for the treatment group."
   ]
  },
  {
   "cell_type": "code",
   "metadata": {},
   "source": [
    "# Bayesian model for Treatment group\n",
    "with pm.Model() as treatment_model:\n",
    "    p_treatment = pm.Beta('p_treatment', alpha=1, beta=1)\n",
    "    x_treatment = pm.Binomial('x_treatment', \n",
    "                              n=trial_data['treatment']['patients'], \n",
    "                              p=p_treatment, \n",
    "                              observed=trial_data['treatment']['improved'])"
   ],
   "execution_count": null,
   "outputs": []
  },
  {
   "cell_type": "code",
   "metadata": {},
   "source": [
    "with treatment_model:\n",
    "    treatment_trace = pm.sample()\n",
    "\n",
    "posterior_samples_treatment = treatment_trace.posterior.p_treatment.values.flatten()\n",
    "\n",
    "plt.figure(figsize=(8,4))\n",
    "plt.hist(posterior_samples_treatment, bins=20, density=True, edgecolor='white', label='Sampling Approximation')\n",
    "\n",
    "y_treat = sts.beta.pdf(x, trial_data['treatment']['improved']+1, \n",
    "                          trial_data['treatment']['patients'] - trial_data['treatment']['improved'] +1)\n",
    "plt.plot(x, y_treat, label='Analytical Posterior')\n",
    "plt.xlabel('Probability of Improvement')\n",
    "plt.ylabel('Density')\n",
    "plt.title('Posterior Distribution for Treatment Group')\n",
    "plt.legend()\n",
    "plt.show()"
   ],
   "execution_count": null,
   "outputs": []
  },
  {
   "cell_type": "markdown",
   "metadata": {},
   "source": [
    "**Interpretation:**\n",
    "The treatment group posterior centers around ~0.76, indicating treatment significantly improves patient outcomes."
   ]
  },
  {
   "cell_type": "markdown",
   "metadata": {},
   "source": [
    "## Comparing Treatment vs Control\n",
    "Visualizing the posterior distributions together illustrates the treatment's effect."
   ]
  },
  {
   "cell_type": "code",
   "metadata": {},
   "source": [
    "plt.figure(figsize=(8,4))\n",
    "plt.hist(posterior_samples, bins=20, density=True, alpha=0.5, label='Control')\n",
    "plt.hist(posterior_samples_treatment, bins=20, density=True, alpha=0.5, label='Treatment')\n",
    "plt.xlabel('Probability of Improvement')\n",
    "plt.ylabel('Density')\n",
    "plt.title('Comparison: Treatment vs Control')\n",
    "plt.legend()\n",
    "plt.show()"
   ],
   "execution_count": null,
   "outputs": []
  },
  {
   "cell_type": "markdown",
   "metadata": {},
   "source": [
    "## Conclusion\n",
    "\n",
    "- Bayesian inference confirms the treatment group has a higher probability of improvement (~0.76) compared to the control (~0.47).\n",
    "- Both sampling and function-fitting methods give consistent insights.\n",
    "- This demonstrates the power of Bayesian methods for quantifying uncertainty and comparing interventions."
   ]
  }
 ],
 "metadata": {
  "kernelspec": {
   "display_name": "Python 3",
   "language": "python",
   "name": "python3"
  },
  "language_info": {
   "name": "python",
   "version": "3.10"
  }
 },
 "nbformat": 4,
 "nbformat_minor": 5
}
